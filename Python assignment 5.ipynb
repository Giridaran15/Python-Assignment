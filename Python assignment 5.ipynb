{
 "cells": [
  {
   "cell_type": "code",
   "execution_count": 1,
   "id": "e6dad2ba",
   "metadata": {},
   "outputs": [],
   "source": [
    "#1. An empty dictionary is represented by m = {} or m = dict()"
   ]
  },
  {
   "cell_type": "code",
   "execution_count": 2,
   "id": "bd831291",
   "metadata": {},
   "outputs": [],
   "source": [
    "#2. In a dictioary {'foo' : 42} the value of 'foo' is 42"
   ]
  },
  {
   "cell_type": "code",
   "execution_count": 4,
   "id": "73ed2f4e",
   "metadata": {},
   "outputs": [],
   "source": [
    "#3. In a list the values inside are remembered are stored based on their index values whereas in a dictionary values are \n",
    "remembered based on the user defined Keys"
   ]
  },
  {
   "cell_type": "code",
   "execution_count": 5,
   "id": "914a58c8",
   "metadata": {},
   "outputs": [
    {
     "ename": "KeyError",
     "evalue": "'foo'",
     "output_type": "error",
     "traceback": [
      "\u001b[1;31m---------------------------------------------------------------------------\u001b[0m",
      "\u001b[1;31mKeyError\u001b[0m                                  Traceback (most recent call last)",
      "\u001b[1;32mC:\\Users\\GIRIDA~1\\AppData\\Local\\Temp/ipykernel_40432/1148845734.py\u001b[0m in \u001b[0;36m<module>\u001b[1;34m\u001b[0m\n\u001b[0;32m      1\u001b[0m \u001b[0mspam\u001b[0m \u001b[1;33m=\u001b[0m \u001b[1;33m{\u001b[0m\u001b[1;34m'bar'\u001b[0m\u001b[1;33m:\u001b[0m \u001b[1;36m100\u001b[0m\u001b[1;33m}\u001b[0m\u001b[1;33m\u001b[0m\u001b[1;33m\u001b[0m\u001b[0m\n\u001b[1;32m----> 2\u001b[1;33m \u001b[0mprint\u001b[0m\u001b[1;33m(\u001b[0m\u001b[0mspam\u001b[0m\u001b[1;33m[\u001b[0m\u001b[1;34m'foo'\u001b[0m\u001b[1;33m]\u001b[0m\u001b[1;33m)\u001b[0m\u001b[1;33m\u001b[0m\u001b[1;33m\u001b[0m\u001b[0m\n\u001b[0m",
      "\u001b[1;31mKeyError\u001b[0m: 'foo'"
     ]
    }
   ],
   "source": [
    "#4.\n",
    "spam = {'bar': 100}\n",
    "print(spam['foo'])"
   ]
  },
  {
   "cell_type": "code",
   "execution_count": null,
   "id": "11eec07d",
   "metadata": {},
   "outputs": [],
   "source": [
    "#5. No difference , both expression provide same boolean output. Both expressions looks for a key 'cat' in spam"
   ]
  },
  {
   "cell_type": "code",
   "execution_count": null,
   "id": "c843d989",
   "metadata": {},
   "outputs": [],
   "source": [
    "#6. No difference , both expression provide same boolean output. Both expressions looks for a value 'cat' for any keys in spam"
   ]
  },
  {
   "cell_type": "code",
   "execution_count": 7,
   "id": "2be7373e",
   "metadata": {},
   "outputs": [],
   "source": [
    "#7.\n",
    "if 'color' not in spam:\n",
    "    spam['color']= 'black'"
   ]
  },
  {
   "cell_type": "code",
   "execution_count": 12,
   "id": "5ae17d4b",
   "metadata": {},
   "outputs": [
    {
     "data": {
      "text/plain": [
       "{'bar': 100, 'color': 'black', 'colour': 'blue'}"
      ]
     },
     "execution_count": 12,
     "metadata": {},
     "output_type": "execute_result"
    }
   ],
   "source": [
    "spam"
   ]
  },
  {
   "cell_type": "code",
   "execution_count": 11,
   "id": "690dc8cd",
   "metadata": {},
   "outputs": [
    {
     "data": {
      "text/plain": [
       "'blue'"
      ]
     },
     "execution_count": 11,
     "metadata": {},
     "output_type": "execute_result"
    }
   ],
   "source": [
    "spam.setdefault('colour','blue')"
   ]
  },
  {
   "cell_type": "code",
   "execution_count": 27,
   "id": "e8e7a88e",
   "metadata": {},
   "outputs": [
    {
     "name": "stdout",
     "output_type": "stream",
     "text": [
      "[{'bar': 100, 'color': 'Black', 'colour': {'red', 'yellow', 'white'}},\n",
      " {'bar': 100, 'color': 'Black', 'colour': {'red', 'yellow', 'white'}},\n",
      " {'bar': 100, 'color': 'Black', 'colour': {'red', 'yellow', 'white'}}]\n"
     ]
    }
   ],
   "source": [
    "#8. \n",
    "import pprint\n",
    "pprint.pprint(spam1)"
   ]
  },
  {
   "cell_type": "code",
   "execution_count": 26,
   "id": "ed276327",
   "metadata": {},
   "outputs": [],
   "source": [
    "spam1 = [{'bar': 100,'color':'Black','colour':{'red','white','yellow'}},\n",
    "         {'bar': 100,'color':'Black','colour':{'red','white','yellow'}},\n",
    "         {'bar': 100,'color':'Black','colour':{'red','white','yellow'}}]"
   ]
  },
  {
   "cell_type": "code",
   "execution_count": 28,
   "id": "019ac931",
   "metadata": {},
   "outputs": [
    {
     "name": "stdout",
     "output_type": "stream",
     "text": [
      "[{'bar': 100, 'color': 'Black', 'colour': {'red', 'yellow', 'white'}}, {'bar': 100, 'color': 'Black', 'colour': {'red', 'yellow', 'white'}}, {'bar': 100, 'color': 'Black', 'colour': {'red', 'yellow', 'white'}}]\n"
     ]
    }
   ],
   "source": [
    "print(spam1)"
   ]
  },
  {
   "cell_type": "code",
   "execution_count": null,
   "id": "0a2a6401",
   "metadata": {},
   "outputs": [],
   "source": []
  }
 ],
 "metadata": {
  "kernelspec": {
   "display_name": "Python 3 (ipykernel)",
   "language": "python",
   "name": "python3"
  },
  "language_info": {
   "codemirror_mode": {
    "name": "ipython",
    "version": 3
   },
   "file_extension": ".py",
   "mimetype": "text/x-python",
   "name": "python",
   "nbconvert_exporter": "python",
   "pygments_lexer": "ipython3",
   "version": "3.9.7"
  }
 },
 "nbformat": 4,
 "nbformat_minor": 5
}
