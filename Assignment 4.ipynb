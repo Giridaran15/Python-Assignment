{
 "cells": [
  {
   "cell_type": "code",
   "execution_count": 1,
   "id": "eb8adb03",
   "metadata": {},
   "outputs": [],
   "source": [
    "#Quetion 1. [] denotes an empty list"
   ]
  },
  {
   "cell_type": "code",
   "execution_count": 2,
   "id": "9a4bdce1",
   "metadata": {},
   "outputs": [],
   "source": [
    "#Question 2.\n",
    "spam = [2,4,6,8,10]\n",
    "spam[3] = \"Hello\""
   ]
  },
  {
   "cell_type": "code",
   "execution_count": 3,
   "id": "ac9501bf",
   "metadata": {},
   "outputs": [
    {
     "data": {
      "text/plain": [
       "[2, 4, 6, 'Hello', 10]"
      ]
     },
     "execution_count": 3,
     "metadata": {},
     "output_type": "execute_result"
    }
   ],
   "source": [
    "spam"
   ]
  },
  {
   "cell_type": "code",
   "execution_count": 5,
   "id": "5a49518f",
   "metadata": {},
   "outputs": [],
   "source": [
    "#Question 3, 4, 5.\n",
    "Spam = ['a','b','c','d']"
   ]
  },
  {
   "cell_type": "code",
   "execution_count": 16,
   "id": "3ffdc9f7",
   "metadata": {},
   "outputs": [
    {
     "data": {
      "text/plain": [
       "('d', 'd', ['a', 'b'])"
      ]
     },
     "execution_count": 16,
     "metadata": {},
     "output_type": "execute_result"
    }
   ],
   "source": [
    "Spam[int(int('3'*2)/11)], Spam[-1], Spam[:2]"
   ]
  },
  {
   "cell_type": "code",
   "execution_count": null,
   "id": "90abb78f",
   "metadata": {},
   "outputs": [],
   "source": [
    "#Question 6,7,8:"
   ]
  },
  {
   "cell_type": "code",
   "execution_count": 17,
   "id": "4d70b9f3",
   "metadata": {},
   "outputs": [],
   "source": [
    "bacon= [3.14,'cat',11,True,'cat']"
   ]
  },
  {
   "cell_type": "code",
   "execution_count": 18,
   "id": "510bb435",
   "metadata": {},
   "outputs": [
    {
     "data": {
      "text/plain": [
       "1"
      ]
     },
     "execution_count": 18,
     "metadata": {},
     "output_type": "execute_result"
    }
   ],
   "source": [
    "bacon.index('cat') #returning the first index value."
   ]
  },
  {
   "cell_type": "code",
   "execution_count": 20,
   "id": "c4b1c127",
   "metadata": {},
   "outputs": [
    {
     "data": {
      "text/plain": [
       "[3.14, 'cat', 11, True, 'cat', 99, 99]"
      ]
     },
     "execution_count": 20,
     "metadata": {},
     "output_type": "execute_result"
    }
   ],
   "source": [
    "bacon.append(99)\n",
    "bacon"
   ]
  },
  {
   "cell_type": "code",
   "execution_count": 21,
   "id": "e543b49a",
   "metadata": {},
   "outputs": [
    {
     "data": {
      "text/plain": [
       "[3.14, 11, True, 'cat', 99, 99]"
      ]
     },
     "execution_count": 21,
     "metadata": {},
     "output_type": "execute_result"
    }
   ],
   "source": [
    "bacon.remove('cat') # A single remove statement removing the first occuring value alone\n",
    "bacon"
   ]
  },
  {
   "cell_type": "code",
   "execution_count": null,
   "id": "cfd00872",
   "metadata": {},
   "outputs": [],
   "source": [
    "#Question 9.    List concatenation operator = '+' , List replication operator = '*'"
   ]
  },
  {
   "cell_type": "code",
   "execution_count": 23,
   "id": "ee1e28e4",
   "metadata": {},
   "outputs": [],
   "source": [
    "#Question 10.\n",
    "# append() fn appens a value into end of the list while insert() fn inserts a value at a specified index"
   ]
  },
  {
   "cell_type": "code",
   "execution_count": 24,
   "id": "dc0e9059",
   "metadata": {},
   "outputs": [],
   "source": [
    "#Question 11.  \n",
    "del statement or remove() can be used to remove items in a list"
   ]
  },
  {
   "cell_type": "code",
   "execution_count": null,
   "id": "f9918c51",
   "metadata": {},
   "outputs": [],
   "source": [
    "#Question 12.\n",
    "Both lists and strings can be passed to len() function, have indexes and slices, be used in for loops, be \n",
    "concatenated or replicated, and be used with the in and not in operators."
   ]
  },
  {
   "cell_type": "code",
   "execution_count": null,
   "id": "3bfae5b7",
   "metadata": {},
   "outputs": [],
   "source": [
    "#Question 13. \n",
    "tuples() are immutable arrays while list() are mutable arrays"
   ]
  },
  {
   "cell_type": "code",
   "execution_count": 28,
   "id": "170d6c29",
   "metadata": {},
   "outputs": [],
   "source": [
    "#Question 14.\n",
    "value = (42,)"
   ]
  },
  {
   "cell_type": "code",
   "execution_count": 27,
   "id": "8e34d5aa",
   "metadata": {},
   "outputs": [
    {
     "data": {
      "text/plain": [
       "42"
      ]
     },
     "execution_count": 27,
     "metadata": {},
     "output_type": "execute_result"
    }
   ],
   "source": [
    "value"
   ]
  },
  {
   "cell_type": "code",
   "execution_count": null,
   "id": "fab899e6",
   "metadata": {},
   "outputs": [],
   "source": [
    "#Question 15.\n",
    " The tuple() and list() functions, respectively are used to convert a list to tuple and vice versa"
   ]
  },
  {
   "cell_type": "code",
   "execution_count": null,
   "id": "08be3c30",
   "metadata": {},
   "outputs": [],
   "source": [
    "#Question 16.\n",
    "variables contains the address or the references to the list values"
   ]
  },
  {
   "cell_type": "code",
   "execution_count": null,
   "id": "867d8486",
   "metadata": {},
   "outputs": [],
   "source": [
    "#Question 17.\n",
    "The copy.copy() function will do a shallow copy of a list, while the copy.deepcopy() function will do a deep copy of a list.\n",
    "That is, only copy.deepcopy() will duplicate any lists inside the list."
   ]
  }
 ],
 "metadata": {
  "kernelspec": {
   "display_name": "Python 3 (ipykernel)",
   "language": "python",
   "name": "python3"
  },
  "language_info": {
   "codemirror_mode": {
    "name": "ipython",
    "version": 3
   },
   "file_extension": ".py",
   "mimetype": "text/x-python",
   "name": "python",
   "nbconvert_exporter": "python",
   "pygments_lexer": "ipython3",
   "version": "3.9.7"
  }
 },
 "nbformat": 4,
 "nbformat_minor": 5
}
