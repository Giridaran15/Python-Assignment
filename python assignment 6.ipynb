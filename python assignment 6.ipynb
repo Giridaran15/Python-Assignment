{
 "cells": [
  {
   "cell_type": "code",
   "execution_count": null,
   "id": "84c937f0",
   "metadata": {},
   "outputs": [],
   "source": [
    "#1.\n",
    "Escape characters represent characters in string values that would otherwise be difficult or impossible to type into code.\n",
    "we can use the backslash '\\'character to escape a single character or symbol like '\\t','\\n'"
   ]
  },
  {
   "cell_type": "code",
   "execution_count": null,
   "id": "653ab20a",
   "metadata": {},
   "outputs": [],
   "source": [
    "#2.\n",
    "\\t = tab\n",
    "\\n = newline"
   ]
  },
  {
   "cell_type": "code",
   "execution_count": null,
   "id": "9ac54ba7",
   "metadata": {},
   "outputs": [],
   "source": [
    "#3.\n",
    "by the way of using double backslash '\\\\' in a code"
   ]
  },
  {
   "cell_type": "code",
   "execution_count": null,
   "id": "d60779f1",
   "metadata": {},
   "outputs": [],
   "source": [
    "#4. \n",
    "Since the entire phrase is enclosed inside the double quotes , it doesn't . Incase if it is enclosed in single quotes it should\n",
    "be written as ' Howl\\'s moving castle'"
   ]
  },
  {
   "cell_type": "code",
   "execution_count": 5,
   "id": "0b16b116",
   "metadata": {},
   "outputs": [],
   "source": [
    "#5.\n",
    "string ='''my name is tony stark.\n",
    "I am invincible'''"
   ]
  },
  {
   "cell_type": "code",
   "execution_count": 6,
   "id": "bb38d8c0",
   "metadata": {},
   "outputs": [
    {
     "name": "stdout",
     "output_type": "stream",
     "text": [
      "my name is tony stark.\n",
      "I am invincible\n"
     ]
    }
   ],
   "source": [
    "print(string)"
   ]
  },
  {
   "cell_type": "code",
   "execution_count": 10,
   "id": "f84d351c",
   "metadata": {},
   "outputs": [
    {
     "data": {
      "text/plain": [
       "('e', 'Hello', 'Hello', 'lo, world')"
      ]
     },
     "execution_count": 10,
     "metadata": {},
     "output_type": "execute_result"
    }
   ],
   "source": [
    "'Hello, world'[1], 'Hello, world'[0:5], 'Hello, world'[:5], 'Hello, world'[3:]"
   ]
  },
  {
   "cell_type": "code",
   "execution_count": 11,
   "id": "8668b99f",
   "metadata": {},
   "outputs": [
    {
     "data": {
      "text/plain": [
       "('HELLO', True, 'hello')"
      ]
     },
     "execution_count": 11,
     "metadata": {},
     "output_type": "execute_result"
    }
   ],
   "source": [
    "'Hello'.upper(), 'Hello'.upper().isupper(), 'Hello'.upper().lower()"
   ]
  },
  {
   "cell_type": "code",
   "execution_count": 14,
   "id": "1bc5d847",
   "metadata": {},
   "outputs": [
    {
     "data": {
      "text/plain": [
       "(['Remember,', 'remember,', 'the', 'fifth', 'of', 'July.'],\n",
       " 'There-can-only-one.')"
      ]
     },
     "execution_count": 14,
     "metadata": {},
     "output_type": "execute_result"
    }
   ],
   "source": [
    "'Remember, remember, the fifth of July.'.split() , '-'.join('There can only one.'.split())"
   ]
  },
  {
   "cell_type": "code",
   "execution_count": null,
   "id": "4df14e6a",
   "metadata": {},
   "outputs": [],
   "source": [
    "#9.\n",
    "rjust(), ljust(), center() fns can be used for string justifications"
   ]
  },
  {
   "cell_type": "code",
   "execution_count": 16,
   "id": "d538bacd",
   "metadata": {},
   "outputs": [
    {
     "data": {
      "text/plain": [
       "('name', 'python')"
      ]
     },
     "execution_count": 16,
     "metadata": {},
     "output_type": "execute_result"
    }
   ],
   "source": [
    "#10.\n",
    "'   name'.lstrip(), 'python   '.rstrip()"
   ]
  },
  {
   "cell_type": "code",
   "execution_count": null,
   "id": "2e0e5c9b",
   "metadata": {},
   "outputs": [],
   "source": []
  }
 ],
 "metadata": {
  "kernelspec": {
   "display_name": "Python 3 (ipykernel)",
   "language": "python",
   "name": "python3"
  },
  "language_info": {
   "codemirror_mode": {
    "name": "ipython",
    "version": 3
   },
   "file_extension": ".py",
   "mimetype": "text/x-python",
   "name": "python",
   "nbconvert_exporter": "python",
   "pygments_lexer": "ipython3",
   "version": "3.9.7"
  }
 },
 "nbformat": 4,
 "nbformat_minor": 5
}
